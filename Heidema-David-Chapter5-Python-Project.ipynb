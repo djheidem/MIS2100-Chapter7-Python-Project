{
 "cells": [
  {
   "cell_type": "code",
   "execution_count": 112,
   "id": "a4b22eb9",
   "metadata": {},
   "outputs": [],
   "source": [
    "class Department:\n",
    "    def __init__(self, departmentSupervisor):\n",
    "        self.departmentSupervisor = departmentSupervisor\n",
    "        self.departmentAssets = []"
   ]
  },
  {
   "cell_type": "code",
   "execution_count": 113,
   "id": "158064f1",
   "metadata": {},
   "outputs": [],
   "source": [
    "class DepartmentAsset:\n",
    "    def __init__(self, assetName, assetValue, quantity, expectedLifespan):\n",
    "        self.assetName = assetName\n",
    "        self.assetValue = assetValue\n",
    "        self.quantity = quantity\n",
    "        self.expectedLifespan = expectedLifespan\n",
    "        "
   ]
  },
  {
   "cell_type": "code",
   "execution_count": 114,
   "id": "192f14bf",
   "metadata": {},
   "outputs": [],
   "source": [
    "class DepartmentManager:\n",
    "    def __init__(self):\n",
    "        self.department = {}\n",
    "        "
   ]
  },
  {
   "cell_type": "code",
   "execution_count": 115,
   "id": "08855c1f",
   "metadata": {},
   "outputs": [
    {
     "name": "stdout",
     "output_type": "stream",
     "text": [
      "Jamie Doe is in charge of the marketing department and the following assets less that $2000:\n",
      "     5 computer at $1500 each. This asset is expects to last for 5 years.\n",
      "Ryan Doe is in charge of the finacnce department and the following assets less that $2000:\n",
      "     2 chair at $500 each. This asset is expects to last for 10 years.\n",
      "     3 calculator at $500 each. This asset is expects to last for 5 years.\n"
     ]
    }
   ],
   "source": [
    "deptManager = DepartmentManager()\n",
    "mktDept = Department(\"Jamie Doe\")\n",
    "mktDeptAsset1 = DepartmentAsset(\"desk\", 5000, 2, 10)\n",
    "mktDeptAsset2 = DepartmentAsset(\"computer\" , 1500, 5, 5)\n",
    "mktDept.departmentAssets.append(mktDeptAsset1) \n",
    "mktDept.departmentAssets.append(mktDeptAsset2)\n",
    "financeDept = Department(\"Ryan Doe\")\n",
    "financeDeptAsset1 = DepartmentAsset(\"chair\", 500, 2, 10)\n",
    "financeDeptAsset2 = DepartmentAsset(\"calculator\", 500, 3, 5)\n",
    "financeDept.departmentAssets.append(financeDeptAsset1)\n",
    "financeDept.departmentAssets.append(financeDeptAsset2)\n",
    "deptManager.department[\"marketing\"] = mktDept\n",
    "deptManager.department[\"finacnce\"] = financeDept \n",
    "\n",
    "#Put loops in same cell that was created at the end of project 4 to retain values that were assigned\n",
    "for key, value in deptManager.department.items():\n",
    "    print(value.departmentSupervisor + \" is in charge of the \" + key +  \" department and the following assets less that $2000:\")\n",
    "    for item in value.departmentAssets:\n",
    "        if(item.assetValue < 2000):\n",
    "            print(\"     \" + str(item.quantity) + \" \" + str(item.assetName) + \" at $\" + str(item.assetValue) + \" each. This asset is expects to last for \" + str(item.expectedLifespan) + \" years.\")"
   ]
  },
  {
   "cell_type": "code",
   "execution_count": null,
   "id": "e281fca4",
   "metadata": {},
   "outputs": [],
   "source": []
  },
  {
   "cell_type": "code",
   "execution_count": null,
   "id": "f92d7ee4",
   "metadata": {},
   "outputs": [],
   "source": []
  }
 ],
 "metadata": {
  "kernelspec": {
   "display_name": "Python 3",
   "language": "python",
   "name": "python3"
  },
  "language_info": {
   "codemirror_mode": {
    "name": "ipython",
    "version": 3
   },
   "file_extension": ".py",
   "mimetype": "text/x-python",
   "name": "python",
   "nbconvert_exporter": "python",
   "pygments_lexer": "ipython3",
   "version": "3.8.8"
  }
 },
 "nbformat": 4,
 "nbformat_minor": 5
}
