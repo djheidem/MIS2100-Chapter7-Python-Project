{
 "cells": [
  {
   "cell_type": "markdown",
   "id": "da9bfda5",
   "metadata": {},
   "source": [
    "This notebook creates and uses a Customer class"
   ]
  },
  {
   "cell_type": "code",
   "execution_count": 1,
   "id": "0c0efe9a",
   "metadata": {},
   "outputs": [],
   "source": [
    "class Customer:\n",
    "    \n",
    "    def __init__(self, firstName = None, lastName = None, address = None, age = 20):\n",
    "        self.__firstName = firstName\n",
    "        self.__lastName = lastName\n",
    "        self.__address = address\n",
    "        self.__age = age\n",
    "    def setFirstName(self,firstName):\n",
    "        self.__firstName = firstName\n",
    "    def getFirstName(self):\n",
    "        return self.__firstName\n",
    "    \n",
    "    def setLastName(self,lastName):\n",
    "        self.__lastName = lastName\n",
    "    def getLastName(self):\n",
    "        return self.__lastName\n",
    "    \n",
    "    def setAddress(self, address):\n",
    "        self.__address = address\n",
    "    def getAddress(self):\n",
    "        return self.__address\n",
    "    \n",
    "    def setAge(self, age):\n",
    "        self.__age = age\n",
    "    def getAge(self):\n",
    "        return self.__age\n",
    "    \n",
    "    def printCustomerDetails(self):\n",
    "        print(\"Name:\" + ' ' + str(self.__firstName) + ' ' + str(self.__lastName))\n",
    "        print(\"Address:\" + ' ' + str(self.__address))\n",
    "        print(\"Age:\" + ' ' + str(self.__age))\n",
    "    \n",
    "    \n",
    "        "
   ]
  },
  {
   "cell_type": "code",
   "execution_count": 2,
   "id": "16503b30",
   "metadata": {},
   "outputs": [
    {
     "name": "stdout",
     "output_type": "stream",
     "text": [
      "Name: David Heidema\n",
      "Address: 987 Fake St.\n",
      "Age: 21\n",
      "Name: Dave Heidie\n",
      "Address: 654 Fake St.\n",
      "Age: 22\n"
     ]
    }
   ],
   "source": [
    "firstCustomer = None\n",
    "firstCustomer = Customer(\"David\", \"Heidema\", \"987 Fake St.\", 21)\n",
    "firstCustomer.printCustomerDetails()\n",
    "secondCustomer = None\n",
    "secondCustomer = Customer()\n",
    "secondCustomer.setFirstName(\"Dave\")\n",
    "secondCustomer.setLastName(\"Heidie\")\n",
    "secondCustomer.setAge(22)\n",
    "secondCustomer.setAddress(\"654 Fake St.\")\n",
    "secondCustomer.printCustomerDetails()\n"
   ]
  },
  {
   "cell_type": "code",
   "execution_count": null,
   "id": "89ee65c4",
   "metadata": {},
   "outputs": [],
   "source": []
  }
 ],
 "metadata": {
  "kernelspec": {
   "display_name": "Python 3",
   "language": "python",
   "name": "python3"
  },
  "language_info": {
   "codemirror_mode": {
    "name": "ipython",
    "version": 3
   },
   "file_extension": ".py",
   "mimetype": "text/x-python",
   "name": "python",
   "nbconvert_exporter": "python",
   "pygments_lexer": "ipython3",
   "version": "3.8.8"
  }
 },
 "nbformat": 4,
 "nbformat_minor": 5
}
