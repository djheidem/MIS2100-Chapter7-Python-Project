{
 "cells": [
  {
   "cell_type": "code",
   "execution_count": 29,
   "id": "d16859c7",
   "metadata": {},
   "outputs": [],
   "source": [
    "import pandas as pd\n",
    "import matplotlib.pyplot as plt\n",
    "import numpy as np\n",
    "pd.set_option('display.float_format', lambda x: '%.2f' % x)"
   ]
  },
  {
   "cell_type": "code",
   "execution_count": 30,
   "id": "977188fe",
   "metadata": {},
   "outputs": [
    {
     "data": {
      "text/html": [
       "<div>\n",
       "<style scoped>\n",
       "    .dataframe tbody tr th:only-of-type {\n",
       "        vertical-align: middle;\n",
       "    }\n",
       "\n",
       "    .dataframe tbody tr th {\n",
       "        vertical-align: top;\n",
       "    }\n",
       "\n",
       "    .dataframe thead th {\n",
       "        text-align: right;\n",
       "    }\n",
       "</style>\n",
       "<table border=\"1\" class=\"dataframe\">\n",
       "  <thead>\n",
       "    <tr style=\"text-align: right;\">\n",
       "      <th></th>\n",
       "      <th>Name</th>\n",
       "      <th>Age</th>\n",
       "      <th>ProgrammingExperience</th>\n",
       "      <th>ManagementExperience</th>\n",
       "      <th>Salary</th>\n",
       "    </tr>\n",
       "  </thead>\n",
       "  <tbody>\n",
       "    <tr>\n",
       "      <th>0</th>\n",
       "      <td>John A.</td>\n",
       "      <td>32</td>\n",
       "      <td>9</td>\n",
       "      <td>3</td>\n",
       "      <td>48008.21</td>\n",
       "    </tr>\n",
       "    <tr>\n",
       "      <th>1</th>\n",
       "      <td>Jane B.</td>\n",
       "      <td>41</td>\n",
       "      <td>10</td>\n",
       "      <td>20</td>\n",
       "      <td>293159.84</td>\n",
       "    </tr>\n",
       "    <tr>\n",
       "      <th>2</th>\n",
       "      <td>Jimmy C.</td>\n",
       "      <td>17</td>\n",
       "      <td>1</td>\n",
       "      <td>0</td>\n",
       "      <td>13603.64</td>\n",
       "    </tr>\n",
       "    <tr>\n",
       "      <th>3</th>\n",
       "      <td>Jamie D.</td>\n",
       "      <td>61</td>\n",
       "      <td>1</td>\n",
       "      <td>30</td>\n",
       "      <td>195202.95</td>\n",
       "    </tr>\n",
       "    <tr>\n",
       "      <th>4</th>\n",
       "      <td>Archie E.</td>\n",
       "      <td>17</td>\n",
       "      <td>one</td>\n",
       "      <td>0</td>\n",
       "      <td>13605.57</td>\n",
       "    </tr>\n",
       "  </tbody>\n",
       "</table>\n",
       "</div>"
      ],
      "text/plain": [
       "        Name  Age ProgrammingExperience ManagementExperience    Salary\n",
       "0    John A.   32                     9                    3  48008.21\n",
       "1    Jane B.   41                    10                   20 293159.84\n",
       "2   Jimmy C.   17                     1                    0  13603.64\n",
       "3   Jamie D.   61                     1                   30 195202.95\n",
       "4  Archie E.   17                   one                    0  13605.57"
      ]
     },
     "execution_count": 30,
     "metadata": {},
     "output_type": "execute_result"
    }
   ],
   "source": [
    "data = pd.read_excel(\"C:\\\\Users\\\\djhei\\\\anaconda3\\\\Chapter7AssignmentData.xlsx\",sheet_name = \"Sheet1\")\n",
    "#print(data)\n",
    "data.head()\n"
   ]
  },
  {
   "cell_type": "code",
   "execution_count": 31,
   "id": "38f8b376",
   "metadata": {},
   "outputs": [
    {
     "data": {
      "text/plain": [
       "Name                      object\n",
       "Age                        int64\n",
       "ProgrammingExperience     object\n",
       "ManagementExperience      object\n",
       "Salary                   float64\n",
       "dtype: object"
      ]
     },
     "execution_count": 31,
     "metadata": {},
     "output_type": "execute_result"
    }
   ],
   "source": [
    "data.dtypes"
   ]
  },
  {
   "cell_type": "code",
   "execution_count": 32,
   "id": "f873ea1d",
   "metadata": {},
   "outputs": [
    {
     "ename": "SyntaxError",
     "evalue": "invalid syntax (<ipython-input-32-e6bac44ec74b>, line 10)",
     "output_type": "error",
     "traceback": [
      "\u001b[1;36m  File \u001b[1;32m\"<ipython-input-32-e6bac44ec74b>\"\u001b[1;36m, line \u001b[1;32m10\u001b[0m\n\u001b[1;33m    data.astype('ProgrammingExperience':'float', 'ManagementExperience':'float')\u001b[0m\n\u001b[1;37m                                       ^\u001b[0m\n\u001b[1;31mSyntaxError\u001b[0m\u001b[1;31m:\u001b[0m invalid syntax\n"
     ]
    }
   ],
   "source": [
    "data.ManagementExperience.unique()\n",
    "data[data.ManagementExperience == \"four\"]\n",
    "data.ManagementExperience = data.ManagementExperience.str.replace(\"four\", \"4\")\n",
    "#ss\n",
    "#data.ProgrammingExperience.unique()\n",
    "data[data.ProgrammingExperience == \"one\"]\n",
    "data.ProgrammingExperience = data.ProgrammingExperience.str.replace(\"one\", \"1\")\n",
    "data[data.ProgrammingExperience == \"two\"]\n",
    "data.ProgrammingExperience = data.ProgrammingExperience.str.replace(\"two\", \"2\")\n",
    "data.astype('ProgrammingExperience':'float', 'ManagementExperience':'float')"
   ]
  },
  {
   "cell_type": "code",
   "execution_count": null,
   "id": "25344b10",
   "metadata": {},
   "outputs": [],
   "source": []
  },
  {
   "cell_type": "code",
   "execution_count": null,
   "id": "a5ae2669",
   "metadata": {},
   "outputs": [],
   "source": []
  }
 ],
 "metadata": {
  "kernelspec": {
   "display_name": "Python 3",
   "language": "python",
   "name": "python3"
  },
  "language_info": {
   "codemirror_mode": {
    "name": "ipython",
    "version": 3
   },
   "file_extension": ".py",
   "mimetype": "text/x-python",
   "name": "python",
   "nbconvert_exporter": "python",
   "pygments_lexer": "ipython3",
   "version": "3.8.8"
  }
 },
 "nbformat": 4,
 "nbformat_minor": 5
}
