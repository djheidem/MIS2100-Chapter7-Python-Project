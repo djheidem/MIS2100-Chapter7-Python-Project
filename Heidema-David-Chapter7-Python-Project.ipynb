{
 "cells": [
  {
   "cell_type": "code",
   "execution_count": 25,
   "id": "72d9e71f",
   "metadata": {},
   "outputs": [],
   "source": [
    "class SimpleMath: \n",
    "     def divide(self, numerator, denominator):\n",
    "        if(denominator == 0):\n",
    "            raise ZeroDivisionError(\"Cannot divide by 0\")\n",
    "        result = numerator/denominator\n",
    "        print(result)\n",
    "        return result"
   ]
  },
  {
   "cell_type": "code",
   "execution_count": 26,
   "id": "170d39e3",
   "metadata": {},
   "outputs": [],
   "source": [
    " import unittest"
   ]
  },
  {
   "cell_type": "code",
   "execution_count": 27,
   "id": "14585e09",
   "metadata": {},
   "outputs": [
    {
     "name": "stderr",
     "output_type": "stream",
     "text": [
      "...."
     ]
    },
    {
     "name": "stdout",
     "output_type": "stream",
     "text": [
      "0.25\n",
      "0.14285714285714285\n",
      "0.0\n"
     ]
    },
    {
     "name": "stderr",
     "output_type": "stream",
     "text": [
      "\n",
      "----------------------------------------------------------------------\n",
      "Ran 4 tests in 0.005s\n",
      "\n",
      "OK\n"
     ]
    }
   ],
   "source": [
    "class SimpleMathTest(unittest.TestCase):\n",
    "    def testThatZeroNumeratorReturnsZero(self): \n",
    "        test1 = SimpleMath()\n",
    "        self.assertEqual(0,test1.divide(0,7))\n",
    "        \n",
    "    def testThatSmallerNumeratorReturnsDecimalValue(self):\n",
    "        test2 = SimpleMath()\n",
    "        self.assertEqual(0.25,test2.divide(1,4))\n",
    "        \n",
    "    def testThatSmallerNumeratorReturnsRepeatingDecimalValue(self):\n",
    "        test3 = SimpleMath()\n",
    "        self.assertAlmostEqual(0.143, test3.divide(1,7),3)\n",
    "        \n",
    "    def testThatZeroDenominatorThrowsException(self):\n",
    "        test4 = SimpleMath()\n",
    "        with self.assertRaises(ZeroDivisionError):test4.divide(6,0)\n",
    "if(__name__ == '__main__'):\n",
    "        unittest.main(argv=['first-arg-is-ignored'], exit=False)\n",
    "\n",
    "    "
   ]
  }
 ],
 "metadata": {
  "kernelspec": {
   "display_name": "Python 3",
   "language": "python",
   "name": "python3"
  },
  "language_info": {
   "codemirror_mode": {
    "name": "ipython",
    "version": 3
   },
   "file_extension": ".py",
   "mimetype": "text/x-python",
   "name": "python",
   "nbconvert_exporter": "python",
   "pygments_lexer": "ipython3",
   "version": "3.8.8"
  }
 },
 "nbformat": 4,
 "nbformat_minor": 5
}
