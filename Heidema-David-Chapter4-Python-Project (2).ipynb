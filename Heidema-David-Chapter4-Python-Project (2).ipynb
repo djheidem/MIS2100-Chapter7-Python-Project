{
 "cells": [
  {
   "cell_type": "code",
   "execution_count": 53,
   "id": "91b74b7e",
   "metadata": {},
   "outputs": [],
   "source": [
    "class Department:\n",
    "    def __init__(self, departmentSupervisor):\n",
    "        self.departmentSupervisor = departmentSupervisor\n",
    "        self.departmentAssets = []\n",
    "    "
   ]
  },
  {
   "cell_type": "code",
   "execution_count": 54,
   "id": "79712722",
   "metadata": {},
   "outputs": [],
   "source": [
    "class DepartmentAsset:\n",
    "    def __init__(self, assetName, assetValue, quantity, expectedLifespan):\n",
    "        self.assetName = assetName\n",
    "        self.assetValue = assetValue\n",
    "        self.quantity = quantity\n",
    "        self.expectedLifespan = expectedLifespan\n",
    "        "
   ]
  },
  {
   "cell_type": "code",
   "execution_count": 55,
   "id": "c8cee6b0",
   "metadata": {},
   "outputs": [],
   "source": [
    "class DepartmentManager:\n",
    "    def __init__(self):\n",
    "        self.department = {}\n",
    "        "
   ]
  },
  {
   "cell_type": "code",
   "execution_count": 56,
   "id": "4fd621d3",
   "metadata": {},
   "outputs": [
    {
     "name": "stdout",
     "output_type": "stream",
     "text": [
      "The marketing department, which is supervised by Jamie Doehas the following assets: desk and computer\n"
     ]
    }
   ],
   "source": [
    "deptManager = DepartmentManager()\n",
    "mktDept = Department(\"Jamie Doe\")\n",
    "mktDeptAsset1 = DepartmentAsset(\"desk\", 5000, 2, 10)\n",
    "mktDeptAsset2 = DepartmentAsset(\"computer\" , 1500, 5, 5)\n",
    "mktDept.departmentAssets.append(mktDeptAsset1) \n",
    "mktDept.departmentAssets.append(mktDeptAsset2)\n",
    "financeDept = Department(\"Ryan Doe\")\n",
    "financeDeptAsset1 = DepartmentAsset(\"chair\", 500, 2, 10)\n",
    "financeDeptAsset2 = DepartmentAsset(\"calculator\", 500, 3, 5)\n",
    "financeDept.departmentAssets.append(financeDeptAsset1)\n",
    "financeDept.departmentAssets.append(financeDeptAsset2)\n",
    "deptManager.department[\"marketing\"] = mktDept\n",
    "deptManager.department[\"finacnce\"] = financeDept \n",
    "print('The marketing department, which is supervised by ' + deptManager.department.get(\"marketing\").departmentSupervisor + 'has the following assets: ' + mktDept.departmentAssets[0].assetName + ' and ' + mktDept.departmentAssets[1].assetName)\n"
   ]
  }
 ],
 "metadata": {
  "kernelspec": {
   "display_name": "Python 3",
   "language": "python",
   "name": "python3"
  },
  "language_info": {
   "codemirror_mode": {
    "name": "ipython",
    "version": 3
   },
   "file_extension": ".py",
   "mimetype": "text/x-python",
   "name": "python",
   "nbconvert_exporter": "python",
   "pygments_lexer": "ipython3",
   "version": "3.8.8"
  }
 },
 "nbformat": 4,
 "nbformat_minor": 5
}
