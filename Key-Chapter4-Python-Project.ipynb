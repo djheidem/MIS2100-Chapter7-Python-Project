{
 "cells": [
  {
   "cell_type": "code",
   "execution_count": 1,
   "metadata": {},
   "outputs": [],
   "source": [
    "class Department:\n",
    "    def __init__(self, departmentSupervisor):\n",
    "        self.departmentSupervisor = departmentSupervisor\n",
    "        self.departmentAssets = []        "
   ]
  },
  {
   "cell_type": "code",
   "execution_count": 2,
   "metadata": {},
   "outputs": [],
   "source": [
    "class DepartmentAsset:\n",
    "    def __init__(self, assetName, assetValue, quantity, expectedLifespan):\n",
    "        self.assetName = assetName\n",
    "        self.assetValue = assetValue\n",
    "        self.quantity = quantity\n",
    "        self.expectedLifespan = expectedLifespan"
   ]
  },
  {
   "cell_type": "code",
   "execution_count": 3,
   "metadata": {},
   "outputs": [],
   "source": [
    "class DepartmentManager:\n",
    "    def __init__(self):\n",
    "        self.departments = {}"
   ]
  },
  {
   "cell_type": "code",
   "execution_count": 4,
   "metadata": {},
   "outputs": [
    {
     "name": "stdout",
     "output_type": "stream",
     "text": [
      "The marketing department, which is supervised by Jamie Doe, has the following assets: desk and computer\n"
     ]
    }
   ],
   "source": [
    "deptManager = DepartmentManager()\n",
    "\n",
    "mktDept = Department(\"Jamie Doe\")\n",
    "mktDeptAsset1 = DepartmentAsset(\"desk\",5000,2,10)\n",
    "mktDeptAsset2 = DepartmentAsset(\"computer\",1500,5,5)\n",
    "mktDept.departmentAssets.append(mktDeptAsset1)\n",
    "mktDept.departmentAssets.append(mktDeptAsset2)\n",
    "\n",
    "financeDept = Department(\"Ryan Doe\")\n",
    "financeDeptAsset1 = DepartmentAsset(\"chair\",500,2,10)\n",
    "financeDeptAsset2 = DepartmentAsset(\"calculator\",500,3,5)\n",
    "financeDept.departmentAssets.append(financeDeptAsset1)\n",
    "financeDept.departmentAssets.append(financeDeptAsset2)\n",
    "\n",
    "deptManager.departments[\"marketing\"] = mktDept\n",
    "deptManager.departments[\"finance\"] = financeDept\n",
    "\n",
    "print(\"The marketing department, which is supervised by \" + deptManager.departments.get(\"marketing\").departmentSupervisor + \n",
    "      \", has the following assets: \" + deptManager.departments.get(\"marketing\").departmentAssets[0].assetName + \" and \" \n",
    "      + deptManager.departments.get(\"marketing\").departmentAssets[1].assetName)\n"
   ]
  },
  {
   "cell_type": "code",
   "execution_count": null,
   "metadata": {},
   "outputs": [],
   "source": []
  }
 ],
 "metadata": {
  "kernelspec": {
   "display_name": "Python 3",
   "language": "python",
   "name": "python3"
  },
  "language_info": {
   "codemirror_mode": {
    "name": "ipython",
    "version": 3
   },
   "file_extension": ".py",
   "mimetype": "text/x-python",
   "name": "python",
   "nbconvert_exporter": "python",
   "pygments_lexer": "ipython3",
   "version": "3.8.8"
  }
 },
 "nbformat": 4,
 "nbformat_minor": 2
}
